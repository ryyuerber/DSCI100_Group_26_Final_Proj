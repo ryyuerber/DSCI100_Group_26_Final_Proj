{
 "cells": [
  {
   "cell_type": "markdown",
   "id": "9e9cd844-932f-4d4f-8bc0-73db6286496a",
   "metadata": {},
   "source": [
    "# DSCI 100 Haiyu Long Individual Stage\n",
    "# Study Question: Will the players' gaming experience, whether or not they subscribe to the game-related newsletter, and age become useful predictors for their total hours of playing?\n",
    "\n",
    "We will start by loading the most correlated dataset players.csv."
   ]
  },
  {
   "cell_type": "code",
   "execution_count": null,
   "id": "3407c62b-6db9-445c-9d1a-d0d7c2945395",
   "metadata": {},
   "outputs": [],
   "source": [
    "### Run this cell before continuing.\n",
    "library(tidyverse)\n",
    "library(repr)\n",
    "jjvjk\n",
    "library(tidymodels)\n",
    "library(GGally)\n",
    "library(ISLR)\n",
    "options(repr.matrix.max.rows = 6)\n",
    "source(\"cleanup.R\")"
   ]
  },
  {
   "cell_type": "code",
   "execution_count": null,
   "id": "f072fbe5-97f4-4a3e-8256-111e2f002e7e",
   "metadata": {},
   "outputs": [],
   "source": [
    "players <- read_csv(\"\")\n",
    "write_csv(players, '')"
   ]
  },
  {
   "cell_type": "markdown",
   "id": "5ea02835-ddb0-4430-8303-c5addf0ce9d6",
   "metadata": {},
   "source": [
    "From this dataset, we can find several columns, where each row represents a single player's data. There are 196 players (rows) in the dataset, each with seven columns describing specific information.\n",
    "\n",
    "- The \"experience\" section indicates the player's level of proficiency in the game, divided into five categories: \"beginner,\" \"regular,\" \"Amateur,\" \"veteran\" and \"pro.\"\n",
    "- This is followed by the 'subscribe' column, which shows if the player has a habit of subscribing to news related to the game.\n",
    "- The next column is the email address of the hashed player.\n",
    "- The 'played hour' column measures each player's play time on an hour basis.\n",
    "- The last three columns mark the player's name, gender, and age.\n",
    "\n",
    "We find that, except for play_hours and age, which are stored as doubles, and subscribe, which are stored as logical vectors, the rest of the columns are stored as strings in the dataset.\n",
    "In the columns above, we focus on the metrics' experience ', 'subscribe', and 'age' and the response variable 'played_hours'. We try to analyze whether the first three indicators have a sufficient data correlation with the latter to qualify as predictors."
   ]
  },
  {
   "cell_type": "markdown",
   "id": "e554f1e9-4ceb-4cfe-b1ec-0e181182cd84",
   "metadata": {},
   "source": [
    "Next, we will do a basic collation of the data set and identify potential problems in the data set that may hinder our analysis."
   ]
  },
  {
   "cell_type": "code",
   "execution_count": null,
   "id": "0aa471a6-cae5-4166-ad72-fdb43cccbe3f",
   "metadata": {},
   "outputs": [],
   "source": [
    "players_mdfied <- players |>\n",
    "    select(-hashedEmail) |> #remove the obvious not useful column\n",
    "    mutate(experience = as_factor(experience)) |>\n",
    "    mutate(subscribe = as_factor(subscribe)) |>\n",
    "    mutate(subscribe = fct_recode(subscribe, \"Yes\" = \"TRUE\", \"No\" = \"FALSE\")) #factorize two important column for later analysis\n",
    "\n",
    "players_na_sum <- colSums(is.na(players_mdfied))\n",
    "\n",
    "players_mdfied\n",
    "players_na_sum"
   ]
  },
  {
   "cell_type": "markdown",
   "id": "6ccd0bc4-3782-4e41-8f89-895d7f60699d",
   "metadata": {},
   "source": [
    "After sorting out the data, we found that two na values appeared in the age column. Due to the small number of NA values, we can consider directly discarding these two rows of data for the time being. In other words, we will apply na.rm in all following data summarize and visualization sections. \n",
    "Next, we will make a summary analysis for each columns in the dataset."
   ]
  },
  {
   "cell_type": "code",
   "execution_count": null,
   "id": "834a77c6-b812-4be3-b92d-c897d670d183",
   "metadata": {},
   "outputs": [],
   "source": [
    "hours_played_summary <- players_mdfied |> summarize(played_hours_min = min(played_hours, na.rm = TRUE),\n",
    "    played_hours_max = max(played_hours),\n",
    "    played_hours_mean = mean(played_hours),\n",
    "    played_hours_median = median(played_hours),\n",
    "    played_hours_sd = sd(played_hours))\n",
    "\n",
    "age_summary <- players_mdfied |> summarize(age_min = min(Age, na.rm = TRUE),\n",
    "    age_max = max(Age, na.rm = TRUE),\n",
    "    age_mean = mean(Age, na.rm = TRUE),\n",
    "    age_median = median(Age, na.rm = TRUE))\n",
    "\n",
    "ctg_summary <- players_mdfied |>\n",
    "  select(experience, subscribe, gender) |>\n",
    "  pivot_longer(cols = experience:gender, names_to = \"Column\", values_to = \"categories\") |>\n",
    "  group_by(Column, categories) |>\n",
    "  summarize(Count = n())\n",
    "\n",
    "hours_played_summary\n",
    "age_summary\n",
    "print(ctg_summary)"
   ]
  },
  {
   "cell_type": "markdown",
   "id": "ba5aa925-95cd-48c5-aeee-d61e1fb79e28",
   "metadata": {},
   "source": [
    "From the above statistics, we can find a lot of interesting information.\n",
    "\n",
    "The minimum value of play time is 0, which means that some players registered an account but did not play. Comparing the maximum with the mean and the median also shows that there may be a large number of players who play less than two hours or even less than an hour. Based on the age statistics, we found that most players are probably still young adults (15-35).\n",
    "\n",
    "Finally, in terms of player proficiency, apart from the fact that the number of pro players is relatively small (which is also common sense), the number of skilled players is fairly evenly distributed. At the same time, more than half of the data in the entire dataset was contributed by male players. Among the players, most of them have subscribed to the newsletter related to the game.\n",
    "\n",
    "These statistics will provide hints for our subsequent analysis and suggest that our conclusions may be very limited. For example, data composed mostly of male players may indicate that our conclusions are only applicable to male players."
   ]
  },
  {
   "cell_type": "code",
   "execution_count": null,
   "id": "127d7782-3efd-4dba-a89b-4ca5614e952e",
   "metadata": {},
   "outputs": [],
   "source": [
    "options(repr.plot.height = 6, repr.plot.width = 7)\n",
    "\n",
    "age_hours_plot <- ggplot(players_mdfied, aes(x = Age, y = played_hours)) +\n",
    "  geom_point() +\n",
    "  labs(x = \"Age\", y = \"Total Hours Played\")\n",
    "\n",
    "exp_hours_plot <- ggplot(players_mdfied, aes(x = experience, y = played_hours)) +\n",
    "  geom_boxplot() +\n",
    "  labs(x = \"Gaming Experience\", y = \"Total Hours Played\")\n",
    "\n",
    "subs_hours_plot <- ggplot(players_mdfied, aes(x = subscribe, y = played_hours)) +\n",
    "  geom_boxplot() +\n",
    "  labs(x = \"Subscribe or not\", y = \"Total Hours Played\")\n",
    "\n",
    "age_hours_plot\n",
    "exp_hours_plot\n",
    "subs_hours_plot"
   ]
  },
  {
   "cell_type": "markdown",
   "id": "326adf05-e4f5-4f78-97cc-1474434b2fd5",
   "metadata": {},
   "source": [
    "# Methods and plans\n",
    "\n",
    "We plan to use a multifactor linear regression model as a preliminary prediction tool, using players' gaming experience, whether they subscribe to newsletters, and age to predict the total amount of time a player will play.\n",
    "\n",
    "First, the linear regression model is suitable for predicting continuous response variables (such as total play time), and can handle both numerical variables (age) and categorical variables (experience and subscription after factoring and numericalized).\n",
    "\n",
    "Analytical presupposition\n",
    "- Assume a linear relationship between each predictor and response variable.\n",
    "- Need to convert character variables to factors or numerical numbers (0 or 1).\n",
    "\n",
    "Potential limitations or weaknesses\n",
    "- If there are nonlinear relationships or significant interactions between the predictor and response variables, a simple linear model may not be sufficient to capture these complex relationships.\n",
    "- The current dataset may not collect all the important factors that affect the game duration, thus reducing the explanatory power.\n",
    "\n",
    "project\n",
    "1. Check and clean the data (dealing with missing values and outliers).\n",
    "2. Convert character variables (such as experience and subscribe) into factors and construct dummy variables if necessary.\n",
    "3. Split the data set into training set and test set. The recommended ratio is 70% training set and 30% test set.\n",
    "4. In the training stage, cross-validation is used to further adjust the model parameters to ensure that the model has good generalization performance on the unseen data.\n",
    "5. Use k-fold cross-validation (5 or 10 fold) to evaluate the model's performance on the training set to prevent overfitting or underfitting."
   ]
  },
  {
   "cell_type": "code",
   "execution_count": null,
   "id": "8e404560-1035-430c-90f6-49f3d0249a3a",
   "metadata": {},
   "outputs": [],
   "source": []
  }
 ],
 "metadata": {
  "kernelspec": {
   "display_name": "R",
   "language": "R",
   "name": "ir"
  },
  "language_info": {
   "codemirror_mode": "r",
   "file_extension": ".r",
   "mimetype": "text/x-r-source",
   "name": "R",
   "pygments_lexer": "r",
   "version": "4.3.3"
  }
 },
 "nbformat": 4,
 "nbformat_minor": 5
}
