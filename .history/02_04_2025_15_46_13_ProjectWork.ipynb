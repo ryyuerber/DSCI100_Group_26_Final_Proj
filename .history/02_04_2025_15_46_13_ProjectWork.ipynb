{
 "cells": [
  {
   "cell_type": "code",
   "execution_count": null,
   "id": "5995d5c1-3a41-4846-ab5b-d340c2b03286",
   "metadata": {},
   "outputs": [],
   "source": [
    "### Run this cell before continuing.\n",
    "library(tidyverse)\n",
    "library(repr)\n",
    "library(tidymodels)\n",
    "library(GGally)\n",
    "library(ISLR)\n",
    "options(repr.matrix.max.rows = 6)\n",
    "source(\"cleanup.R\")"
   ]
  },
  {
   "cell_type": "code",
   "execution_count": null,
   "id": "e6bf9109-6f72-488d-bbee-b40fbf284f3f",
   "metadata": {},
   "outputs": [],
   "source": [
    "players <- read_csv(\"https://raw.githubusercontent.com/ryyuerber/DSCI100_Group_26_Final_Proj/refs/heads/main/players.csv\")\n",
    "sessions <- read_csv(\"https://raw.githubusercontent.com/ryyuerber/DSCI100_Group_26_Final_Proj/refs/heads/main/sessions.csv\")\n",
    "\n",
    "players\n",
    "sessions"
   ]
  },
  {
   "cell_type": "code",
   "execution_count": null,
   "id": "77566415-5b1c-4f52-be5a-0ef0e6985c0c",
   "metadata": {},
   "outputs": [],
   "source": [
    "num_sessions <- sessions |>\n",
    "    group_by(hashedEmail)|>\n",
    "    summarize(count = n())\n",
    "df <- left_join(players, num_sessions, by = 'hashedEmail')\n",
    "    # mutate(avg_session_hrs = played_hours / count) |>\n",
    "    # select(-hashedEmail, -name, -count)\n",
    "write.csv(df, 'df.csv')"
   ]
  },
  {
   "cell_type": "code",
   "execution_count": null,
   "id": "9e0be6fd-2fc0-4e1a-a6a6-d1c852e0258d",
   "metadata": {},
   "outputs": [],
   "source": [
    "players_mdfied <- df |>\n",
    "    mutate(experience = as_factor(experience)) |>\n",
    "    mutate(subscribe = as_factor(subscribe)) |>\n",
    "    mutate(subscribe = fct_recode(subscribe, \"Yes\" = \"TRUE\", \"No\" = \"FALSE\")) #factorize two important column for later analysis\n",
    "\n",
    "players_na_sum <- colSums(is.na(players_mdfied))\n",
    "\n",
    "players_mdfied\n",
    "players_na_sum"
   ]
  },
  {
   "cell_type": "code",
   "execution_count": null,
   "id": "232354e3-11eb-4ab8-96e4-1af4954390b1",
   "metadata": {},
   "outputs": [],
   "source": [
    "hours_played_summary <- players_mdfied |> summarize(played_hours_min = min(played_hours, na.rm = TRUE),\n",
    "    played_hours_max = max(played_hours),\n",
    "    played_hours_mean = mean(played_hours),\n",
    "    played_hours_median = median(played_hours),\n",
    "    played_hours_sd = sd(played_hours))\n",
    "\n",
    "age_summary <- players_mdfied |> summarize(age_min = min(Age, na.rm = TRUE),\n",
    "    age_max = max(Age, na.rm = TRUE),\n",
    "    age_mean = mean(Age, na.rm = TRUE),\n",
    "    age_median = median(Age, na.rm = TRUE))\n",
    "\n",
    "ctg_summary <- players_mdfied |>\n",
    "  select(experience, subscribe, gender) |>\n",
    "  pivot_longer(cols = experience:gender, names_to = \"Column\", values_to = \"categories\") |>\n",
    "  group_by(Column, categories) |>\n",
    "  summarize(Count = n())\n",
    "\n",
    "hours_played_summary\n",
    "age_summary\n",
    "print(ctg_summary)"
   ]
  },
  {
   "cell_type": "code",
   "execution_count": null,
   "id": "6c8ed4d4-b489-455b-a6ca-8109d4b07849",
   "metadata": {},
   "outputs": [],
   "source": []
  }
 ],
 "metadata": {
  "kernelspec": {
   "display_name": "R",
   "language": "R",
   "name": "ir"
  },
  "language_info": {
   "codemirror_mode": "r",
   "file_extension": ".r",
   "mimetype": "text/x-r-source",
   "name": "R",
   "pygments_lexer": "r",
   "version": "4.3.3"
  }
 },
 "nbformat": 4,
 "nbformat_minor": 5
}
