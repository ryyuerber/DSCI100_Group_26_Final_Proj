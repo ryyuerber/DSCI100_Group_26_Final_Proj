{
 "cells": [
  {
   "cell_type": "markdown",
   "id": "f679cd98-cdb4-4e8e-9eb9-5a018bcb62d9",
   "metadata": {},
   "source": [
    "# Title"
   ]
  },
  {
   "cell_type": "markdown",
   "id": "a8f935a1-4fa0-4806-a8d5-75ed796ecdbd",
   "metadata": {},
   "source": [
    "# Introduction"
   ]
  },
  {
   "cell_type": "markdown",
   "id": "6eaaba9a-8193-4510-93aa-3213ad9119d5",
   "metadata": {},
   "source": [
    "### **Question:** Will the players' gaming experience, whether or not they subscribe to the game-related newsletter, and age become useful predictors for their total hours of playing?"
   ]
  },
  {
   "cell_type": "markdown",
   "id": "e4fd842b-6937-4d8d-b535-264106b975b2",
   "metadata": {},
   "source": [
    "# Methods & Results"
   ]
  },
  {
   "cell_type": "code",
   "execution_count": null,
   "id": "5995d5c1-3a41-4846-ab5b-d340c2b03286",
   "metadata": {},
   "outputs": [],
   "source": [
    "### Run this cell before continuing.\n",
    "library(tidyverse)\n",
    "library(repr)\n",
    "library(tidymodels)\n",
    "library(GGally)\n",
    "library(ISLR)\n",
    "options(repr.matrix.max.rows = 6)"
   ]
  },
  {
   "cell_type": "code",
   "execution_count": null,
   "id": "e6bf9109-6f72-488d-bbee-b40fbf284f3f",
   "metadata": {},
   "outputs": [],
   "source": [
    "players <- read_csv(\"https://raw.githubusercontent.com/ryyuerber/DSCI100_Group_26_Final_Proj/refs/heads/main/players.csv\")\n",
    "sessions <- read_csv(\"https://raw.githubusercontent.com/ryyuerber/DSCI100_Group_26_Final_Proj/refs/heads/main/sessions.csv\")\n",
    "\n",
    "players\n",
    "sessions"
   ]
  },
  {
   "cell_type": "code",
   "execution_count": null,
   "id": "77566415-5b1c-4f52-be5a-0ef0e6985c0c",
   "metadata": {},
   "outputs": [],
   "source": [
    "num_sessions <- sessions |>\n",
    "    group_by(hashedEmail)|>\n",
    "    summarize(count = n())\n",
    "\n",
    "df <- left_join(players, num_sessions, by = 'hashedEmail') |>\n",
    "    mutate(avg_session_hrs = played_hours / count) |>\n",
    "    select(-hashedEmail, -name, -count)\n"
   ]
  },
  {
   "cell_type": "code",
   "execution_count": null,
   "id": "9e0be6fd-2fc0-4e1a-a6a6-d1c852e0258d",
   "metadata": {},
   "outputs": [],
   "source": [
    "players_mdfied <- df |>\n",
    "    mutate(experience = as_factor(experience)) |>\n",
    "    mutate(subscribe = as_factor(subscribe)) |>\n",
    "    mutate(subscribe = fct_recode(subscribe, \"Yes\" = \"TRUE\", \"No\" = \"FALSE\")) #factorize two important column for later analysis\n",
    "\n",
    "players_na_sum <- colSums(is.na(players_mdfied))\n",
    "\n",
    "players_mdfied\n",
    "players_na_sum"
   ]
  },
  {
   "cell_type": "code",
   "execution_count": null,
   "id": "232354e3-11eb-4ab8-96e4-1af4954390b1",
   "metadata": {},
   "outputs": [],
   "source": [
    "hours_played_summary <- players_mdfied |> summarize(played_hours_min = min(played_hours, na.rm = TRUE),\n",
    "    played_hours_max = max(played_hours),\n",
    "    played_hours_mean = mean(played_hours),\n",
    "    played_hours_median = median(played_hours),\n",
    "    played_hours_sd = sd(played_hours))\n",
    "\n",
    "age_summary <- players_mdfied |> summarize(age_min = min(Age, na.rm = TRUE),\n",
    "    age_max = max(Age, na.rm = TRUE),\n",
    "    age_mean = mean(Age, na.rm = TRUE),\n",
    "    age_median = median(Age, na.rm = TRUE))\n",
    "\n",
    "ctg_summary <- players_mdfied |>\n",
    "  select(experience, subscribe, gender) |>\n",
    "  pivot_longer(cols = experience:gender, names_to = \"Column\", values_to = \"categories\") |>\n",
    "  group_by(Column, categories) |>\n",
    "  summarize(Count = n())\n",
    "\n",
    "hours_played_summary\n",
    "age_summary\n",
    "print(ctg_summary)"
   ]
  },
  {
   "cell_type": "code",
   "execution_count": null,
   "id": "a20fc37f-6d60-4391-a259-d2ca7d667557",
   "metadata": {},
   "outputs": [],
   "source": [
    "players_numericalized <- players_mdfied |> \n",
    "    mutate(num_subscribe = case_when(subscribe == 'Yes' ~ 1, subscribe == 'No' ~ 0)) |>\n",
    "    mutate(num_experience = case_when(experience == 'Beginner' ~ 1, \n",
    "                                      experience == 'Regular' ~ 2, \n",
    "                                      experience == 'Amateur' ~ 3, \n",
    "                                      experience == 'Veteran' ~ 4\n",
    "                                      experience == 'Pro' ~ 5))\n",
    "\n",
    "    # mutate(experience = fct_recode(experience, 1 = \"Beginner\", 2 = \"Amateur\", 3 = \"Regular\", 4 = \"Veteran\", 5 = \"Pro\"))|>\n",
    "    # mutate(subscribe = fct_recode(subscribe, 1 = \"Yes\", \"0\" = \"No\"))\n",
    "players_numericalized\n",
    "\n",
    "players_split <- initial_split(players_numericalized, prop = 0.75, strata = played_hours)\n",
    "players_training <- training(players_split)\n",
    "players_testing <- testing(players_split)\n"
   ]
  },
  {
   "cell_type": "markdown",
   "id": "2980b058-e352-44e1-a5f8-256e755d56ff",
   "metadata": {},
   "source": [
    "# Discussion"
   ]
  },
  {
   "cell_type": "markdown",
   "id": "9c5e84cc-75e2-46ce-9ff2-758313f78a22",
   "metadata": {},
   "source": [
    "# References (If applicable)"
   ]
  },
  {
   "cell_type": "code",
   "execution_count": null,
   "id": "523e08b3-1c0e-4b3f-8c72-e08b4f49b671",
   "metadata": {},
   "outputs": [],
   "source": []
  }
 ],
 "metadata": {
  "kernelspec": {
   "display_name": "R",
   "language": "R",
   "name": "ir"
  },
  "language_info": {
   "codemirror_mode": "r",
   "file_extension": ".r",
   "mimetype": "text/x-r-source",
   "name": "R",
   "pygments_lexer": "r",
   "version": "4.3.3"
  }
 },
 "nbformat": 4,
 "nbformat_minor": 5
}
